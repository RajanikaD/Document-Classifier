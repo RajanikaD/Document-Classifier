{
 "cells": [
  {
   "cell_type": "code",
   "execution_count": 1,
   "metadata": {
    "colab": {
     "base_uri": "https://localhost:8080/",
     "height": 390
    },
    "id": "XHbIzhLBc8aP",
    "outputId": "820bcac6-aeed-4ac1-e681-b86e4801539f"
   },
   "outputs": [],
   "source": [
    "import os\n",
    "import numpy as np\n",
    "import tensorflow as tf\n",
    "assert tf.__version__.startswith('2')\n",
    "from tflite_model_maker import model_spec\n",
    "from tflite_model_maker import image_classifier\n",
    "from tflite_model_maker.config import ExportFormat\n",
    "from tflite_model_maker.config import QuantizationConfig\n",
    "from tflite_model_maker.image_classifier import DataLoader\n",
    "import matplotlib.pyplot as plt"
   ]
  },
  {
   "cell_type": "code",
   "execution_count": 3,
   "metadata": {
    "id": "EqhZQgGAc8df"
   },
   "outputs": [],
   "source": [
    "image_path = (r\"C:\\Users\\rajan\\Downloads\\NewGen\\Pan Card\\train\")"
   ]
  },
  {
   "cell_type": "code",
   "execution_count": 4,
   "metadata": {
    "id": "FJ2u5j7Bc8gB"
   },
   "outputs": [
    {
     "name": "stdout",
     "output_type": "stream",
     "text": [
      "INFO:tensorflow:Load image with size: 696, num_label: 2, labels: Not Pan Card, Pan Card.\n"
     ]
    }
   ],
   "source": [
    "data = DataLoader.from_folder(image_path)\n",
    "train_data, rest_data = data.split(0.8)"
   ]
  },
  {
   "cell_type": "code",
   "execution_count": 5,
   "metadata": {
    "id": "Nlrd_567c8in"
   },
   "outputs": [],
   "source": [
    "validation_data, test_data = rest_data.split(0.5)"
   ]
  },
  {
   "cell_type": "code",
   "execution_count": 6,
   "metadata": {
    "id": "ZbKxQMRoc8lF"
   },
   "outputs": [
    {
     "name": "stdout",
     "output_type": "stream",
     "text": [
      "INFO:tensorflow:Retraining the models...\n",
      "Model: \"sequential\"\n",
      "_________________________________________________________________\n",
      " Layer (type)                Output Shape              Param #   \n",
      "=================================================================\n",
      " hub_keras_layer_v1v2 (HubKe  (None, 1280)             3413024   \n",
      " rasLayerV1V2)                                                   \n",
      "                                                                 \n",
      " dropout (Dropout)           (None, 1280)              0         \n",
      "                                                                 \n",
      " dense (Dense)               (None, 2)                 2562      \n",
      "                                                                 \n",
      "=================================================================\n",
      "Total params: 3,415,586\n",
      "Trainable params: 2,562\n",
      "Non-trainable params: 3,413,024\n",
      "_________________________________________________________________\n",
      "None\n",
      "Epoch 1/20\n"
     ]
    },
    {
     "name": "stderr",
     "output_type": "stream",
     "text": [
      "C:\\Users\\rajan\\Anaconda3\\lib\\site-packages\\keras\\optimizer_v2\\gradient_descent.py:102: UserWarning: The `lr` argument is deprecated, use `learning_rate` instead.\n",
      "  super(SGD, self).__init__(name, **kwargs)\n"
     ]
    },
    {
     "name": "stdout",
     "output_type": "stream",
     "text": [
      "17/17 [==============================] - 18s 934ms/step - loss: 0.3153 - accuracy: 0.9393 - val_loss: 0.2290 - val_accuracy: 1.0000\n",
      "Epoch 2/20\n",
      "17/17 [==============================] - 15s 906ms/step - loss: 0.2412 - accuracy: 0.9982 - val_loss: 0.2289 - val_accuracy: 1.0000\n",
      "Epoch 3/20\n",
      "17/17 [==============================] - 14s 818ms/step - loss: 0.2177 - accuracy: 1.0000 - val_loss: 0.2018 - val_accuracy: 1.0000\n",
      "Epoch 4/20\n",
      "17/17 [==============================] - 14s 805ms/step - loss: 0.2085 - accuracy: 1.0000 - val_loss: 0.2005 - val_accuracy: 1.0000\n",
      "Epoch 5/20\n",
      "17/17 [==============================] - 14s 795ms/step - loss: 0.2069 - accuracy: 1.0000 - val_loss: 0.2002 - val_accuracy: 1.0000\n",
      "Epoch 6/20\n",
      "17/17 [==============================] - 13s 783ms/step - loss: 0.2059 - accuracy: 1.0000 - val_loss: 0.2003 - val_accuracy: 1.0000\n",
      "Epoch 7/20\n",
      "17/17 [==============================] - 15s 854ms/step - loss: 0.2054 - accuracy: 1.0000 - val_loss: 0.1998 - val_accuracy: 1.0000\n",
      "Epoch 8/20\n",
      "17/17 [==============================] - 15s 865ms/step - loss: 0.2047 - accuracy: 1.0000 - val_loss: 0.1997 - val_accuracy: 1.0000\n",
      "Epoch 9/20\n",
      "17/17 [==============================] - 15s 873ms/step - loss: 0.2044 - accuracy: 1.0000 - val_loss: 0.2000 - val_accuracy: 1.0000\n",
      "Epoch 10/20\n",
      "17/17 [==============================] - 14s 840ms/step - loss: 0.2046 - accuracy: 1.0000 - val_loss: 0.1998 - val_accuracy: 1.0000\n",
      "Epoch 11/20\n",
      "17/17 [==============================] - 15s 890ms/step - loss: 0.2038 - accuracy: 1.0000 - val_loss: 0.1996 - val_accuracy: 1.0000\n",
      "Epoch 12/20\n",
      "17/17 [==============================] - 17s 983ms/step - loss: 0.2038 - accuracy: 1.0000 - val_loss: 0.1996 - val_accuracy: 1.0000\n",
      "Epoch 13/20\n",
      "17/17 [==============================] - 16s 924ms/step - loss: 0.2030 - accuracy: 1.0000 - val_loss: 0.1998 - val_accuracy: 1.0000\n",
      "Epoch 14/20\n",
      "17/17 [==============================] - 15s 902ms/step - loss: 0.2032 - accuracy: 1.0000 - val_loss: 0.1995 - val_accuracy: 1.0000\n",
      "Epoch 15/20\n",
      "17/17 [==============================] - 15s 875ms/step - loss: 0.2032 - accuracy: 1.0000 - val_loss: 0.1995 - val_accuracy: 1.0000\n",
      "Epoch 16/20\n",
      "17/17 [==============================] - 16s 963ms/step - loss: 0.2027 - accuracy: 1.0000 - val_loss: 0.1995 - val_accuracy: 1.0000\n",
      "Epoch 17/20\n",
      "17/17 [==============================] - 16s 938ms/step - loss: 0.2027 - accuracy: 1.0000 - val_loss: 0.1995 - val_accuracy: 1.0000\n",
      "Epoch 18/20\n",
      "17/17 [==============================] - 17s 974ms/step - loss: 0.2031 - accuracy: 1.0000 - val_loss: 0.1994 - val_accuracy: 1.0000\n",
      "Epoch 19/20\n",
      "17/17 [==============================] - 16s 911ms/step - loss: 0.2027 - accuracy: 1.0000 - val_loss: 0.1994 - val_accuracy: 1.0000\n",
      "Epoch 20/20\n",
      "17/17 [==============================] - 16s 911ms/step - loss: 0.2023 - accuracy: 1.0000 - val_loss: 0.1994 - val_accuracy: 1.0000\n"
     ]
    }
   ],
   "source": [
    "model = image_classifier.create(train_data, model_spec=model_spec.get('efficientnet_lite0'), validation_data=validation_data, epochs = 20)"
   ]
  },
  {
   "cell_type": "code",
   "execution_count": 7,
   "metadata": {
    "id": "tbrizYClc8ns"
   },
   "outputs": [
    {
     "name": "stdout",
     "output_type": "stream",
     "text": [
      "3/3 [==============================] - 2s 429ms/step - loss: 0.1994 - accuracy: 1.0000\n"
     ]
    }
   ],
   "source": [
    "loss, accuracy = model.evaluate(test_data)"
   ]
  },
  {
   "cell_type": "code",
   "execution_count": 8,
   "metadata": {
    "id": "74gAirBIc8qP"
   },
   "outputs": [
    {
     "name": "stdout",
     "output_type": "stream",
     "text": [
      "INFO:tensorflow:Assets written to: C:\\Users\\rajan\\AppData\\Local\\Temp\\tmpwucxyrya\\assets\n"
     ]
    },
    {
     "name": "stderr",
     "output_type": "stream",
     "text": [
      "INFO:tensorflow:Assets written to: C:\\Users\\rajan\\AppData\\Local\\Temp\\tmpwucxyrya\\assets\n",
      "C:\\Users\\rajan\\Anaconda3\\lib\\site-packages\\tensorflow\\lite\\python\\convert.py:746: UserWarning: Statistics for quantized inputs were expected, but not specified; continuing anyway.\n",
      "  warnings.warn(\"Statistics for quantized inputs were expected, but not \"\n"
     ]
    },
    {
     "name": "stdout",
     "output_type": "stream",
     "text": [
      "INFO:tensorflow:Label file is inside the TFLite model with metadata.\n"
     ]
    },
    {
     "name": "stderr",
     "output_type": "stream",
     "text": [
      "INFO:tensorflow:Label file is inside the TFLite model with metadata.\n"
     ]
    },
    {
     "name": "stdout",
     "output_type": "stream",
     "text": [
      "INFO:tensorflow:Saving labels in C:\\Users\\rajan\\AppData\\Local\\Temp\\tmpwpiv1p03\\labels.txt\n"
     ]
    },
    {
     "name": "stderr",
     "output_type": "stream",
     "text": [
      "INFO:tensorflow:Saving labels in C:\\Users\\rajan\\AppData\\Local\\Temp\\tmpwpiv1p03\\labels.txt\n"
     ]
    },
    {
     "name": "stdout",
     "output_type": "stream",
     "text": [
      "INFO:tensorflow:TensorFlow Lite model exported successfully: .\\model.tflite\n"
     ]
    },
    {
     "name": "stderr",
     "output_type": "stream",
     "text": [
      "INFO:tensorflow:TensorFlow Lite model exported successfully: .\\model.tflite\n"
     ]
    }
   ],
   "source": [
    "model.export(export_dir='.')"
   ]
  },
  {
   "cell_type": "markdown",
   "metadata": {
    "id": "v5GaUvTSgecV"
   },
   "source": [
    "TFLite"
   ]
  },
  {
   "cell_type": "code",
   "execution_count": 10,
   "metadata": {
    "id": "TNVD-NLDc8sn"
   },
   "outputs": [],
   "source": [
    "import tensorflow.lite as tflite\n",
    "# Load TFLite model and allocate tensors.\n",
    "interpreter = tflite.Interpreter(model_path=r\"C:\\Users\\rajan\\Downloads\\model.tflite\")\n",
    "#allocate the tensors\n",
    "interpreter.allocate_tensors()"
   ]
  },
  {
   "cell_type": "code",
   "execution_count": 11,
   "metadata": {
    "id": "1lUO1jncc8vE"
   },
   "outputs": [],
   "source": [
    "input_details = interpreter.get_input_details()\n",
    "output_details = interpreter.get_output_details()"
   ]
  },
  {
   "cell_type": "code",
   "execution_count": 12,
   "metadata": {
    "id": "H9IDyq3Lgi79"
   },
   "outputs": [],
   "source": [
    "import cv2\n",
    "import numpy as np\n",
    "image_path=(r\"C:\\Users\\rajan\\Downloads\\NewGen\\Pan Card\\validation\\Pan card\\YODLY4129I.jpg\")\n",
    "img = cv2.imread(image_path)\n",
    "img = cv2.resize(img,(224,224))\n",
    "#Preprocess the image to required size and cast\n",
    "input_shape = input_details[0]['shape']\n",
    "input_tensor= np.array(np.expand_dims(img,0))"
   ]
  },
  {
   "cell_type": "code",
   "execution_count": 13,
   "metadata": {
    "id": "KFnHJ6jegi_-"
   },
   "outputs": [],
   "source": [
    "input_index = interpreter.get_input_details()[0][\"index\"]\n",
    "interpreter.set_tensor(input_index, input_tensor)\n",
    "interpreter.invoke()\n",
    "output_details = interpreter.get_output_details()"
   ]
  },
  {
   "cell_type": "code",
   "execution_count": 14,
   "metadata": {
    "id": "3zP33ox3gjDy"
   },
   "outputs": [],
   "source": [
    "output_data = interpreter.get_tensor(output_details[0]['index'])\n",
    "pred = np.squeeze(output_data)"
   ]
  },
  {
   "cell_type": "code",
   "execution_count": 15,
   "metadata": {
    "id": "oNd5foHjgjG9"
   },
   "outputs": [],
   "source": [
    "class_ind = {\n",
    "0 :'Pan Card',\n",
    "1:'Not Pan Card'}"
   ]
  },
  {
   "cell_type": "code",
   "execution_count": 16,
   "metadata": {
    "id": "5DPHHTihgjJw"
   },
   "outputs": [],
   "source": [
    "highest_pred_loc = np.argmax(pred)"
   ]
  },
  {
   "cell_type": "code",
   "execution_count": 17,
   "metadata": {
    "id": "5Fv8xc-0c8x1"
   },
   "outputs": [
    {
     "name": "stdout",
     "output_type": "stream",
     "text": [
      "This Document is Not Pan Card\n"
     ]
    }
   ],
   "source": [
    "document_name = class_ind[highest_pred_loc]\n",
    "print(f\"This Document is {document_name}\")"
   ]
  },
  {
   "cell_type": "code",
   "execution_count": null,
   "metadata": {
    "id": "iR9M_Bqlc80t"
   },
   "outputs": [],
   "source": []
  }
 ],
 "metadata": {
  "colab": {
   "name": "Untitled5.ipynb",
   "provenance": []
  },
  "kernelspec": {
   "display_name": "Python 3",
   "language": "python",
   "name": "python3"
  },
  "language_info": {
   "codemirror_mode": {
    "name": "ipython",
    "version": 3
   },
   "file_extension": ".py",
   "mimetype": "text/x-python",
   "name": "python",
   "nbconvert_exporter": "python",
   "pygments_lexer": "ipython3",
   "version": "3.8.8"
  }
 },
 "nbformat": 4,
 "nbformat_minor": 1
}
