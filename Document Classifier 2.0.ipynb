{
 "cells": [
  {
   "cell_type": "code",
   "execution_count": 1,
   "metadata": {
    "colab": {
     "base_uri": "https://localhost:8080/",
     "height": 390
    },
    "id": "XHbIzhLBc8aP",
    "outputId": "820bcac6-aeed-4ac1-e681-b86e4801539f"
   },
   "outputs": [],
   "source": [
    "import os\n",
    "import numpy as np\n",
    "import tensorflow as tf\n",
    "assert tf.__version__.startswith('2')\n",
    "from tflite_model_maker import model_spec\n",
    "from tflite_model_maker import image_classifier\n",
    "from tflite_model_maker.config import ExportFormat\n",
    "from tflite_model_maker.config import QuantizationConfig\n",
    "from tflite_model_maker.image_classifier import DataLoader\n",
    "import matplotlib.pyplot as plt"
   ]
  },
  {
   "cell_type": "code",
   "execution_count": 2,
   "metadata": {
    "id": "EqhZQgGAc8df"
   },
   "outputs": [],
   "source": [
    "image_path = (r\"C:\\Users\\rajan\\Downloads\\NewGen\\Pan Card\\train\")"
   ]
  },
  {
   "cell_type": "code",
   "execution_count": 3,
   "metadata": {
    "id": "FJ2u5j7Bc8gB"
   },
   "outputs": [
    {
     "name": "stdout",
     "output_type": "stream",
     "text": [
      "INFO:tensorflow:Load image with size: 757, num_label: 2, labels: Not Pan Card, Pan Card.\n"
     ]
    }
   ],
   "source": [
    "data = DataLoader.from_folder(image_path)\n",
    "train_data, rest_data = data.split(0.8)"
   ]
  },
  {
   "cell_type": "code",
   "execution_count": 4,
   "metadata": {
    "id": "Nlrd_567c8in"
   },
   "outputs": [],
   "source": [
    "validation_data, test_data = rest_data.split(0.5)"
   ]
  },
  {
   "cell_type": "code",
   "execution_count": 5,
   "metadata": {
    "id": "ZbKxQMRoc8lF"
   },
   "outputs": [
    {
     "name": "stdout",
     "output_type": "stream",
     "text": [
      "INFO:tensorflow:Retraining the models...\n",
      "Model: \"sequential\"\n",
      "_________________________________________________________________\n",
      " Layer (type)                Output Shape              Param #   \n",
      "=================================================================\n",
      " hub_keras_layer_v1v2 (HubKe  (None, 1280)             3413024   \n",
      " rasLayerV1V2)                                                   \n",
      "                                                                 \n",
      " dropout (Dropout)           (None, 1280)              0         \n",
      "                                                                 \n",
      " dense (Dense)               (None, 2)                 2562      \n",
      "                                                                 \n",
      "=================================================================\n",
      "Total params: 3,415,586\n",
      "Trainable params: 2,562\n",
      "Non-trainable params: 3,413,024\n",
      "_________________________________________________________________\n",
      "None\n"
     ]
    },
    {
     "name": "stderr",
     "output_type": "stream",
     "text": [
      "C:\\Users\\rajan\\Anaconda3\\lib\\site-packages\\keras\\optimizer_v2\\gradient_descent.py:102: UserWarning: The `lr` argument is deprecated, use `learning_rate` instead.\n",
      "  super(SGD, self).__init__(name, **kwargs)\n"
     ]
    },
    {
     "name": "stdout",
     "output_type": "stream",
     "text": [
      "Epoch 1/20\n",
      "18/18 [==============================] - 20s 987ms/step - loss: 0.3852 - accuracy: 0.8611 - val_loss: 0.2501 - val_accuracy: 1.0000\n",
      "Epoch 2/20\n",
      "18/18 [==============================] - 17s 939ms/step - loss: 0.2641 - accuracy: 0.9965 - val_loss: 0.2359 - val_accuracy: 1.0000\n",
      "Epoch 3/20\n",
      "18/18 [==============================] - 17s 924ms/step - loss: 0.2291 - accuracy: 0.9948 - val_loss: 0.2062 - val_accuracy: 1.0000\n",
      "Epoch 4/20\n",
      "18/18 [==============================] - 17s 923ms/step - loss: 0.2134 - accuracy: 1.0000 - val_loss: 0.2055 - val_accuracy: 1.0000\n",
      "Epoch 5/20\n",
      "18/18 [==============================] - 17s 937ms/step - loss: 0.2105 - accuracy: 1.0000 - val_loss: 0.2039 - val_accuracy: 1.0000\n",
      "Epoch 6/20\n",
      "18/18 [==============================] - 17s 923ms/step - loss: 0.2096 - accuracy: 1.0000 - val_loss: 0.2036 - val_accuracy: 1.0000\n",
      "Epoch 7/20\n",
      "18/18 [==============================] - 17s 925ms/step - loss: 0.2083 - accuracy: 0.9983 - val_loss: 0.2032 - val_accuracy: 1.0000\n",
      "Epoch 8/20\n",
      "18/18 [==============================] - 17s 931ms/step - loss: 0.2063 - accuracy: 1.0000 - val_loss: 0.2030 - val_accuracy: 1.0000\n",
      "Epoch 9/20\n",
      "18/18 [==============================] - 17s 927ms/step - loss: 0.2065 - accuracy: 1.0000 - val_loss: 0.2029 - val_accuracy: 1.0000\n",
      "Epoch 10/20\n",
      "18/18 [==============================] - 17s 930ms/step - loss: 0.2062 - accuracy: 1.0000 - val_loss: 0.2029 - val_accuracy: 1.0000\n",
      "Epoch 11/20\n",
      "18/18 [==============================] - 17s 931ms/step - loss: 0.2049 - accuracy: 1.0000 - val_loss: 0.2030 - val_accuracy: 1.0000\n",
      "Epoch 12/20\n",
      "18/18 [==============================] - 17s 945ms/step - loss: 0.2051 - accuracy: 1.0000 - val_loss: 0.2030 - val_accuracy: 1.0000\n",
      "Epoch 13/20\n",
      "18/18 [==============================] - 17s 918ms/step - loss: 0.2048 - accuracy: 1.0000 - val_loss: 0.2027 - val_accuracy: 1.0000\n",
      "Epoch 14/20\n",
      "18/18 [==============================] - 18s 969ms/step - loss: 0.2049 - accuracy: 1.0000 - val_loss: 0.2027 - val_accuracy: 1.0000\n",
      "Epoch 15/20\n",
      "18/18 [==============================] - 17s 924ms/step - loss: 0.2062 - accuracy: 1.0000 - val_loss: 0.2030 - val_accuracy: 1.0000\n",
      "Epoch 16/20\n",
      "18/18 [==============================] - 17s 908ms/step - loss: 0.2044 - accuracy: 1.0000 - val_loss: 0.2027 - val_accuracy: 1.0000\n",
      "Epoch 17/20\n",
      "18/18 [==============================] - 18s 974ms/step - loss: 0.2041 - accuracy: 1.0000 - val_loss: 0.2027 - val_accuracy: 1.0000\n",
      "Epoch 18/20\n",
      "18/18 [==============================] - 18s 956ms/step - loss: 0.2049 - accuracy: 1.0000 - val_loss: 0.2026 - val_accuracy: 1.0000\n",
      "Epoch 19/20\n",
      "18/18 [==============================] - 17s 922ms/step - loss: 0.2043 - accuracy: 1.0000 - val_loss: 0.2026 - val_accuracy: 1.0000\n",
      "Epoch 20/20\n",
      "18/18 [==============================] - 17s 925ms/step - loss: 0.2039 - accuracy: 1.0000 - val_loss: 0.2026 - val_accuracy: 1.0000\n"
     ]
    }
   ],
   "source": [
    "model = image_classifier.create(train_data, model_spec=model_spec.get('efficientnet_lite0'), validation_data=validation_data, epochs = 20)"
   ]
  },
  {
   "cell_type": "code",
   "execution_count": 6,
   "metadata": {
    "id": "tbrizYClc8ns"
   },
   "outputs": [
    {
     "name": "stdout",
     "output_type": "stream",
     "text": [
      "3/3 [==============================] - 2s 508ms/step - loss: 0.2025 - accuracy: 1.0000\n"
     ]
    }
   ],
   "source": [
    "loss, accuracy = model.evaluate(test_data)"
   ]
  },
  {
   "cell_type": "code",
   "execution_count": 7,
   "metadata": {
    "id": "74gAirBIc8qP"
   },
   "outputs": [
    {
     "name": "stdout",
     "output_type": "stream",
     "text": [
      "INFO:tensorflow:Assets written to: C:\\Users\\rajan\\AppData\\Local\\Temp\\tmpq2txdjca\\assets\n"
     ]
    },
    {
     "name": "stderr",
     "output_type": "stream",
     "text": [
      "INFO:tensorflow:Assets written to: C:\\Users\\rajan\\AppData\\Local\\Temp\\tmpq2txdjca\\assets\n",
      "C:\\Users\\rajan\\Anaconda3\\lib\\site-packages\\tensorflow\\lite\\python\\convert.py:746: UserWarning: Statistics for quantized inputs were expected, but not specified; continuing anyway.\n",
      "  warnings.warn(\"Statistics for quantized inputs were expected, but not \"\n"
     ]
    },
    {
     "name": "stdout",
     "output_type": "stream",
     "text": [
      "INFO:tensorflow:Label file is inside the TFLite model with metadata.\n"
     ]
    },
    {
     "name": "stderr",
     "output_type": "stream",
     "text": [
      "INFO:tensorflow:Label file is inside the TFLite model with metadata.\n"
     ]
    },
    {
     "name": "stdout",
     "output_type": "stream",
     "text": [
      "INFO:tensorflow:Saving labels in C:\\Users\\rajan\\AppData\\Local\\Temp\\tmpli_sq32l\\labels.txt\n"
     ]
    },
    {
     "name": "stderr",
     "output_type": "stream",
     "text": [
      "INFO:tensorflow:Saving labels in C:\\Users\\rajan\\AppData\\Local\\Temp\\tmpli_sq32l\\labels.txt\n"
     ]
    },
    {
     "name": "stdout",
     "output_type": "stream",
     "text": [
      "INFO:tensorflow:TensorFlow Lite model exported successfully: .\\model.tflite\n"
     ]
    },
    {
     "name": "stderr",
     "output_type": "stream",
     "text": [
      "INFO:tensorflow:TensorFlow Lite model exported successfully: .\\model.tflite\n"
     ]
    }
   ],
   "source": [
    "model.export(export_dir='.')"
   ]
  },
  {
   "cell_type": "markdown",
   "metadata": {
    "id": "v5GaUvTSgecV"
   },
   "source": [
    "TFLite"
   ]
  },
  {
   "cell_type": "code",
   "execution_count": 8,
   "metadata": {
    "id": "TNVD-NLDc8sn"
   },
   "outputs": [],
   "source": [
    "import tensorflow.lite as tflite\n",
    "# Load TFLite model and allocate tensors.\n",
    "interpreter = tflite.Interpreter(model_path=r\"C:\\Users\\rajan\\Downloads\\model.tflite\")\n",
    "#allocate the tensors\n",
    "interpreter.allocate_tensors()"
   ]
  },
  {
   "cell_type": "code",
   "execution_count": 9,
   "metadata": {
    "id": "1lUO1jncc8vE"
   },
   "outputs": [],
   "source": [
    "input_details = interpreter.get_input_details()\n",
    "output_details = interpreter.get_output_details()"
   ]
  },
  {
   "cell_type": "code",
   "execution_count": 130,
   "metadata": {
    "id": "H9IDyq3Lgi79"
   },
   "outputs": [],
   "source": [
    "import cv2\n",
    "import numpy as np\n",
    "image_path=(r\"C:\\Users\\rajan\\Downloads\\NewGen\\Pan Card\\train\\Not Pan Card\\G701844_09-25_264.jpeg\")\n",
    "img = cv2.imread(image_path)\n",
    "img = cv2.resize(img,(224,224))\n",
    "#Preprocess the image to required size and cast\n",
    "input_shape = input_details[0]['shape']\n",
    "input_tensor= np.array(np.expand_dims(img,0))"
   ]
  },
  {
   "cell_type": "code",
   "execution_count": 131,
   "metadata": {
    "id": "KFnHJ6jegi_-"
   },
   "outputs": [],
   "source": [
    "input_index = interpreter.get_input_details()[0][\"index\"]\n",
    "interpreter.set_tensor(input_index, input_tensor)\n",
    "interpreter.invoke()\n",
    "output_details = interpreter.get_output_details()"
   ]
  },
  {
   "cell_type": "code",
   "execution_count": 132,
   "metadata": {
    "id": "3zP33ox3gjDy"
   },
   "outputs": [],
   "source": [
    "output_data = interpreter.get_tensor(output_details[0]['index'])\n",
    "pred = np.squeeze(output_data)"
   ]
  },
  {
   "cell_type": "code",
   "execution_count": 133,
   "metadata": {},
   "outputs": [
    {
     "name": "stdout",
     "output_type": "stream",
     "text": [
      "[ 34 222]\n"
     ]
    }
   ],
   "source": [
    "print(pred)"
   ]
  },
  {
   "cell_type": "code",
   "execution_count": 134,
   "metadata": {
    "id": "oNd5foHjgjG9"
   },
   "outputs": [],
   "source": [
    "class_ind = {\n",
    "1 :'Pan Card',\n",
    "0:'Not Pan Card'}"
   ]
  },
  {
   "cell_type": "code",
   "execution_count": 135,
   "metadata": {
    "id": "5DPHHTihgjJw"
   },
   "outputs": [],
   "source": [
    "highest_pred_loc = np.argmax(pred)"
   ]
  },
  {
   "cell_type": "code",
   "execution_count": 136,
   "metadata": {
    "id": "5Fv8xc-0c8x1"
   },
   "outputs": [
    {
     "name": "stdout",
     "output_type": "stream",
     "text": [
      "This Document is Pan Card\n"
     ]
    }
   ],
   "source": [
    "document_name = class_ind[highest_pred_loc]\n",
    "print(f\"This Document is {document_name}\")"
   ]
  },
  {
   "cell_type": "code",
   "execution_count": 137,
   "metadata": {},
   "outputs": [
    {
     "name": "stdout",
     "output_type": "stream",
     "text": [
      "1\n"
     ]
    }
   ],
   "source": [
    "print(np.argmax(pred))"
   ]
  },
  {
   "cell_type": "code",
   "execution_count": null,
   "metadata": {},
   "outputs": [],
   "source": []
  }
 ],
 "metadata": {
  "colab": {
   "name": "Untitled5.ipynb",
   "provenance": []
  },
  "kernelspec": {
   "display_name": "Python 3",
   "language": "python",
   "name": "python3"
  },
  "language_info": {
   "codemirror_mode": {
    "name": "ipython",
    "version": 3
   },
   "file_extension": ".py",
   "mimetype": "text/x-python",
   "name": "python",
   "nbconvert_exporter": "python",
   "pygments_lexer": "ipython3",
   "version": "3.8.8"
  }
 },
 "nbformat": 4,
 "nbformat_minor": 1
}
